{
 "cells": [
  {
   "cell_type": "markdown",
   "source": [
    "### **Making imports**"
   ],
   "metadata": {
    "collapsed": false
   },
   "id": "bc450dcb973dc63e"
  },
  {
   "cell_type": "code",
   "execution_count": 1,
   "outputs": [],
   "source": [
    "import pandas as pd"
   ],
   "metadata": {
    "collapsed": false,
    "ExecuteTime": {
     "end_time": "2024-04-03T16:27:54.204807700Z",
     "start_time": "2024-04-03T16:27:49.326170400Z"
    }
   },
   "id": "8c54df80fe9c17dd"
  },
  {
   "cell_type": "markdown",
   "source": [
    "### **Loading Dataframe**"
   ],
   "metadata": {
    "collapsed": false
   },
   "id": "4c55eae50c5602ac"
  },
  {
   "cell_type": "code",
   "execution_count": 5,
   "outputs": [
    {
     "data": {
      "text/plain": "  Company_Name Dependent-Company Status year of founding  \\\n0     Company1                  Success          No Info   \n1     Company2                  Success             2011   \n2     Company3                  Success             2011   \n3     Company4                  Success             2009   \n4     Company5                  Success             2010   \n\n  Age of company in years  Internet Activity Score  \\\n0                 No Info                     -1.0   \n1                       3                    125.0   \n2                       3                    455.0   \n3                       5                    -99.0   \n4                       4                    496.0   \n\n     Short Description of company profile  \\\n0                      Video distribution   \n1                                     NaN   \n2                Event Data Analytics API   \n3  The most advanced analytics for mobile   \n4   The Location-Based Marketing Platform   \n\n                              Industry of company Focus functions of company  \\\n0                                             NaN                  operation   \n1          Market Research|Marketing|Crowdfunding           Marketing, sales   \n2  Analytics|Cloud Computing|Software Development                 operations   \n3                                Mobile|Analytics          Marketing & Sales   \n4         Analytics|Marketing|Enterprise Software          Marketing & Sales   \n\n                                           Investors  Employee Count  ...  \\\n0  KPCB Holdings|Draper Fisher Jurvetson (DFJ)|Kl...             3.0  ...   \n1                                                NaN             NaN  ...   \n2  TechStars|Streamlined Ventures|Amplify Partner...            14.0  ...   \n3  Michael Birch|Max Levchin|Sequoia Capital|Keit...            45.0  ...   \n4  DFJ Frontier|Draper Nexus Ventures|Gil Elbaz|A...            39.0  ...   \n\n   Percent_skill_Data Science Percent_skill_Business Strategy  \\\n0                           0                               0   \n1                 8.823529412                     21.76470588   \n2                 3.846153846                     17.09401709   \n3                           0                               0   \n4                           0                               0   \n\n  Percent_skill_Product Management Percent_skill_Sales  Percent_skill_Domain  \\\n0                                0                   0                     0   \n1                      10.88235294         2.941176471                     0   \n2                      9.401709402                   0           2.777777778   \n3                                0                   0                     0   \n4                                0                   0                     0   \n\n  Percent_skill_Law Percent_skill_Consulting Percent_skill_Finance  \\\n0                 0                        0                     0   \n1                 0                        0                     0   \n2                 0                        0                     0   \n3                 0                        0                     0   \n4                 0                        0                     0   \n\n  Percent_skill_Investment  Renown score  \n0                        0             0  \n1                        0             8  \n2                        0             9  \n3                        0             5  \n4                        0             6  \n\n[5 rows x 116 columns]",
      "text/html": "<div>\n<style scoped>\n    .dataframe tbody tr th:only-of-type {\n        vertical-align: middle;\n    }\n\n    .dataframe tbody tr th {\n        vertical-align: top;\n    }\n\n    .dataframe thead th {\n        text-align: right;\n    }\n</style>\n<table border=\"1\" class=\"dataframe\">\n  <thead>\n    <tr style=\"text-align: right;\">\n      <th></th>\n      <th>Company_Name</th>\n      <th>Dependent-Company Status</th>\n      <th>year of founding</th>\n      <th>Age of company in years</th>\n      <th>Internet Activity Score</th>\n      <th>Short Description of company profile</th>\n      <th>Industry of company</th>\n      <th>Focus functions of company</th>\n      <th>Investors</th>\n      <th>Employee Count</th>\n      <th>...</th>\n      <th>Percent_skill_Data Science</th>\n      <th>Percent_skill_Business Strategy</th>\n      <th>Percent_skill_Product Management</th>\n      <th>Percent_skill_Sales</th>\n      <th>Percent_skill_Domain</th>\n      <th>Percent_skill_Law</th>\n      <th>Percent_skill_Consulting</th>\n      <th>Percent_skill_Finance</th>\n      <th>Percent_skill_Investment</th>\n      <th>Renown score</th>\n    </tr>\n  </thead>\n  <tbody>\n    <tr>\n      <th>0</th>\n      <td>Company1</td>\n      <td>Success</td>\n      <td>No Info</td>\n      <td>No Info</td>\n      <td>-1.0</td>\n      <td>Video distribution</td>\n      <td>NaN</td>\n      <td>operation</td>\n      <td>KPCB Holdings|Draper Fisher Jurvetson (DFJ)|Kl...</td>\n      <td>3.0</td>\n      <td>...</td>\n      <td>0</td>\n      <td>0</td>\n      <td>0</td>\n      <td>0</td>\n      <td>0</td>\n      <td>0</td>\n      <td>0</td>\n      <td>0</td>\n      <td>0</td>\n      <td>0</td>\n    </tr>\n    <tr>\n      <th>1</th>\n      <td>Company2</td>\n      <td>Success</td>\n      <td>2011</td>\n      <td>3</td>\n      <td>125.0</td>\n      <td>NaN</td>\n      <td>Market Research|Marketing|Crowdfunding</td>\n      <td>Marketing, sales</td>\n      <td>NaN</td>\n      <td>NaN</td>\n      <td>...</td>\n      <td>8.823529412</td>\n      <td>21.76470588</td>\n      <td>10.88235294</td>\n      <td>2.941176471</td>\n      <td>0</td>\n      <td>0</td>\n      <td>0</td>\n      <td>0</td>\n      <td>0</td>\n      <td>8</td>\n    </tr>\n    <tr>\n      <th>2</th>\n      <td>Company3</td>\n      <td>Success</td>\n      <td>2011</td>\n      <td>3</td>\n      <td>455.0</td>\n      <td>Event Data Analytics API</td>\n      <td>Analytics|Cloud Computing|Software Development</td>\n      <td>operations</td>\n      <td>TechStars|Streamlined Ventures|Amplify Partner...</td>\n      <td>14.0</td>\n      <td>...</td>\n      <td>3.846153846</td>\n      <td>17.09401709</td>\n      <td>9.401709402</td>\n      <td>0</td>\n      <td>2.777777778</td>\n      <td>0</td>\n      <td>0</td>\n      <td>0</td>\n      <td>0</td>\n      <td>9</td>\n    </tr>\n    <tr>\n      <th>3</th>\n      <td>Company4</td>\n      <td>Success</td>\n      <td>2009</td>\n      <td>5</td>\n      <td>-99.0</td>\n      <td>The most advanced analytics for mobile</td>\n      <td>Mobile|Analytics</td>\n      <td>Marketing &amp; Sales</td>\n      <td>Michael Birch|Max Levchin|Sequoia Capital|Keit...</td>\n      <td>45.0</td>\n      <td>...</td>\n      <td>0</td>\n      <td>0</td>\n      <td>0</td>\n      <td>0</td>\n      <td>0</td>\n      <td>0</td>\n      <td>0</td>\n      <td>0</td>\n      <td>0</td>\n      <td>5</td>\n    </tr>\n    <tr>\n      <th>4</th>\n      <td>Company5</td>\n      <td>Success</td>\n      <td>2010</td>\n      <td>4</td>\n      <td>496.0</td>\n      <td>The Location-Based Marketing Platform</td>\n      <td>Analytics|Marketing|Enterprise Software</td>\n      <td>Marketing &amp; Sales</td>\n      <td>DFJ Frontier|Draper Nexus Ventures|Gil Elbaz|A...</td>\n      <td>39.0</td>\n      <td>...</td>\n      <td>0</td>\n      <td>0</td>\n      <td>0</td>\n      <td>0</td>\n      <td>0</td>\n      <td>0</td>\n      <td>0</td>\n      <td>0</td>\n      <td>0</td>\n      <td>6</td>\n    </tr>\n  </tbody>\n</table>\n<p>5 rows × 116 columns</p>\n</div>"
     },
     "execution_count": 5,
     "metadata": {},
     "output_type": "execute_result"
    }
   ],
   "source": [
    "df = pd.read_csv(\"Data/data.csv\", encoding='latin-1')\n",
    "df.head(5)"
   ],
   "metadata": {
    "collapsed": false,
    "ExecuteTime": {
     "end_time": "2024-04-03T16:30:19.011577900Z",
     "start_time": "2024-04-03T16:30:17.260365400Z"
    }
   },
   "id": "b5c7ece5d2c3862a"
  },
  {
   "cell_type": "code",
   "execution_count": null,
   "outputs": [],
   "source": [],
   "metadata": {
    "collapsed": false
   },
   "id": "4bfaeea7025aa200"
  }
 ],
 "metadata": {
  "kernelspec": {
   "display_name": "Python 3",
   "language": "python",
   "name": "python3"
  },
  "language_info": {
   "codemirror_mode": {
    "name": "ipython",
    "version": 2
   },
   "file_extension": ".py",
   "mimetype": "text/x-python",
   "name": "python",
   "nbconvert_exporter": "python",
   "pygments_lexer": "ipython2",
   "version": "2.7.6"
  }
 },
 "nbformat": 4,
 "nbformat_minor": 5
}
